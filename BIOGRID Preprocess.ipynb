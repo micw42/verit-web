{
 "cells": [
  {
   "cell_type": "code",
   "execution_count": 5,
   "id": "07c3e818-161e-43da-ae50-f5b84c236ceb",
   "metadata": {},
   "outputs": [],
   "source": [
    "# Note: it may be necessary to use pandas 1.1.5 as pickling is incompatible between this version and later versions."
   ]
  },
  {
   "cell_type": "code",
   "execution_count": 2,
   "id": "e8bbbe33-48ef-4939-8f2c-62f03e8d8ca6",
   "metadata": {},
   "outputs": [],
   "source": [
    "import pandas as pd\n",
    "import sys\n",
    "import pickle\n",
    "import networkx as nx\n",
    "import itertools as it\n",
    "import math\n",
    "import numpy as np\n",
    "import os\n",
    "\n",
    "from Visualization import layeredConcentric\n",
    "import seaborn as sns"
   ]
  },
  {
   "cell_type": "markdown",
   "id": "f0e89915-236f-4ffb-b931-d01a1b2e56b8",
   "metadata": {},
   "source": [
    "## Initial data preprocessing (renaming, only humans)"
   ]
  },
  {
   "cell_type": "code",
   "execution_count": 3,
   "id": "91ad8970-19c8-44c8-a105-95b624261c74",
   "metadata": {},
   "outputs": [],
   "source": [
    "df = pd.read_csv(\"./BIOGRID-ALL-4.4.222.trunc.tsv\", sep=\"\\t\")\n",
    "df.columns = [\n",
    "    \"Symbol A\", \"Symbol B\",\n",
    "    \"Synonym A\", \"Synonym B\",\n",
    "    \"System\", \"SysType\", \"Author\", \"Publication\",\n",
    "    \"Uniprot A\", \"Uniprot B\",\n",
    "    \"Organism A\", \"Organism B\"\n",
    "]\n",
    "\n",
    "df = df[(df[\"Organism A\"] == \"Homo sapiens\") & (df[\"Organism B\"] == \"Homo sapiens\")].reset_index(drop=True)\n",
    "df = df.drop(columns=[\"Organism A\", \"Organism B\"])\n",
    "\n",
    "df[\"Uniprot A\"] = \"uniprot:\" + df[\"Uniprot A\"].astype(str)\n",
    "df[\"Uniprot B\"] = \"uniprot:\" + df[\"Uniprot B\"].astype(str)"
   ]
  },
  {
   "cell_type": "code",
   "execution_count": 4,
   "id": "df714e29-96a4-4eaf-b265-10bbe6d0e157",
   "metadata": {},
   "outputs": [
    {
     "name": "stdout",
     "output_type": "stream",
     "text": [
      "(1082654, 10)\n",
      "(846133, 10)\n"
     ]
    }
   ],
   "source": [
    "# Should be (1082654, 10), then (846133, 10)\n",
    "print(df.shape)\n",
    "print(df.drop_duplicates(subset=[\"Uniprot A\", \"Uniprot B\"]).shape)"
   ]
  },
  {
   "cell_type": "markdown",
   "id": "6000cb83-1b58-478d-9ebb-67ad5474c579",
   "metadata": {},
   "source": [
    "### Handle unmapped UniProt IDs\n",
    "* Drop the ones that couldn't be recovered\n",
    "* Requires using the UniProt mapping web tool. Attempted implementing with API, but takes too long and complicated output structure."
   ]
  },
  {
   "cell_type": "code",
   "execution_count": 40,
   "id": "1318d032-4168-4185-aa3c-c0af1c83dc24",
   "metadata": {},
   "outputs": [],
   "source": [
    "# Get unmapped uniprot IDs and export them to map them using UniProt's web tool\n",
    "pd.DataFrame(list(set(pd.concat([\n",
    "    df[df[\"Uniprot A\"] == \"uniprot:-\"][\"Symbol A\"],\n",
    "    df[df[\"Uniprot B\"] == \"uniprot:-\"][\"Symbol B\"]\n",
    "])))).to_csv(\"./no-uniprot.csv\", header=False, index=False)"
   ]
  },
  {
   "cell_type": "markdown",
   "id": "1db09b80-ba71-47cb-bd74-b93e431cfa7e",
   "metadata": {},
   "source": [
    "#### Stop here. Use UniProt's mapping tool at https://www.uniprot.org/id-mapping on the `no-uniprot.csv` file. Then, retrieve and name the output `no-uniprot_mapping.tsv` and ensure the file has the \"Organism\", \"From\", and \"Entry\" fields."
   ]
  },
  {
   "cell_type": "code",
   "execution_count": 60,
   "id": "ccd685f4-c7fb-4b50-b8c4-2ec0a300f471",
   "metadata": {},
   "outputs": [],
   "source": [
    "# After recovering IDs and collecting the right columns from UniProt's tool\n",
    "# Required columns: [\"From\", \"Entry\", Organism\"]\n",
    "up_map = pd.read_csv(\"./no-uniprot_mapping.tsv\", sep=\"\\t\")\n",
    "up_map = up_map[up_map[\"Organism\"] == \"Homo sapiens (Human)\"]\n",
    "up_map = up_map[[\"From\", \"Entry\"]].drop_duplicates(subset=[\"From\"])\n",
    "up_map[\"Entry\"] = \"uniprot:\" + up_map[\"Entry\"].astype(str)\n",
    "up_map.columns = [\"Symbol\", \"Uniprot\"]"
   ]
  },
  {
   "cell_type": "code",
   "execution_count": 61,
   "id": "a637489c-ea17-4fe9-b913-2548d9d4e866",
   "metadata": {},
   "outputs": [
    {
     "data": {
      "text/html": [
       "<div>\n",
       "<style scoped>\n",
       "    .dataframe tbody tr th:only-of-type {\n",
       "        vertical-align: middle;\n",
       "    }\n",
       "\n",
       "    .dataframe tbody tr th {\n",
       "        vertical-align: top;\n",
       "    }\n",
       "\n",
       "    .dataframe thead th {\n",
       "        text-align: right;\n",
       "    }\n",
       "</style>\n",
       "<table border=\"1\" class=\"dataframe\">\n",
       "  <thead>\n",
       "    <tr style=\"text-align: right;\">\n",
       "      <th></th>\n",
       "      <th>Symbol A</th>\n",
       "      <th>Symbol B</th>\n",
       "      <th>Synonym A</th>\n",
       "      <th>Synonym B</th>\n",
       "      <th>System</th>\n",
       "      <th>SysType</th>\n",
       "      <th>Author</th>\n",
       "      <th>Publication</th>\n",
       "      <th>Uniprot A</th>\n",
       "      <th>Uniprot B</th>\n",
       "    </tr>\n",
       "  </thead>\n",
       "  <tbody>\n",
       "    <tr>\n",
       "      <th>0</th>\n",
       "      <td>MAP2K4</td>\n",
       "      <td>FLNC</td>\n",
       "      <td>JNKK|JNKK1|MAPKK4|MEK4|MKK4|PRKMK4|SAPKK-1|SAP...</td>\n",
       "      <td>ABP-280|ABP280A|ABPA|ABPL|FLN2|MFM5|MPD4</td>\n",
       "      <td>Two-hybrid</td>\n",
       "      <td>physical</td>\n",
       "      <td>Marti A (1997)</td>\n",
       "      <td>PUBMED:9006895</td>\n",
       "      <td>uniprot:P45985</td>\n",
       "      <td>uniprot:Q14315</td>\n",
       "    </tr>\n",
       "    <tr>\n",
       "      <th>1</th>\n",
       "      <td>MYPN</td>\n",
       "      <td>ACTN2</td>\n",
       "      <td>CMD1DD|CMH22|MYOP|RCM4</td>\n",
       "      <td>CMD1AA</td>\n",
       "      <td>Two-hybrid</td>\n",
       "      <td>physical</td>\n",
       "      <td>Bang ML (2001)</td>\n",
       "      <td>PUBMED:11309420</td>\n",
       "      <td>uniprot:Q86TC9</td>\n",
       "      <td>uniprot:P35609</td>\n",
       "    </tr>\n",
       "    <tr>\n",
       "      <th>2</th>\n",
       "      <td>ACVR1</td>\n",
       "      <td>FNTA</td>\n",
       "      <td>ACTRI|ACVR1A|ACVRLK2|ALK2|FOP|SKR1|TSRI</td>\n",
       "      <td>FPTA|PGGT1A|PTAR2</td>\n",
       "      <td>Two-hybrid</td>\n",
       "      <td>physical</td>\n",
       "      <td>Wang T (1996)</td>\n",
       "      <td>PUBMED:8599089</td>\n",
       "      <td>uniprot:Q04771</td>\n",
       "      <td>uniprot:P49354</td>\n",
       "    </tr>\n",
       "    <tr>\n",
       "      <th>3</th>\n",
       "      <td>GATA2</td>\n",
       "      <td>PML</td>\n",
       "      <td>DCML|IMD21|MONOMAC|NFE1B</td>\n",
       "      <td>MYL|PP8675|RNF71|TRIM19</td>\n",
       "      <td>Two-hybrid</td>\n",
       "      <td>physical</td>\n",
       "      <td>Tsuzuki S (2000)</td>\n",
       "      <td>PUBMED:10938104</td>\n",
       "      <td>uniprot:P23769</td>\n",
       "      <td>uniprot:P29590</td>\n",
       "    </tr>\n",
       "    <tr>\n",
       "      <th>4</th>\n",
       "      <td>RPA2</td>\n",
       "      <td>STAT3</td>\n",
       "      <td>REPA2|RP-A p32|RP-A p34|RPA32</td>\n",
       "      <td>ADMIO|APRF|HIES</td>\n",
       "      <td>Two-hybrid</td>\n",
       "      <td>physical</td>\n",
       "      <td>Kim J (2000)</td>\n",
       "      <td>PUBMED:10875894</td>\n",
       "      <td>uniprot:P15927</td>\n",
       "      <td>uniprot:P40763</td>\n",
       "    </tr>\n",
       "    <tr>\n",
       "      <th>...</th>\n",
       "      <td>...</td>\n",
       "      <td>...</td>\n",
       "      <td>...</td>\n",
       "      <td>...</td>\n",
       "      <td>...</td>\n",
       "      <td>...</td>\n",
       "      <td>...</td>\n",
       "      <td>...</td>\n",
       "      <td>...</td>\n",
       "      <td>...</td>\n",
       "    </tr>\n",
       "    <tr>\n",
       "      <th>1063774</th>\n",
       "      <td>NSUN5P1</td>\n",
       "      <td>NSUN5P2</td>\n",
       "      <td>NSUN5B|WBSCR20B</td>\n",
       "      <td>NOL1R2|NSUN5C|WBSCR20B|WBSCR20C</td>\n",
       "      <td>Affinity Capture-MS</td>\n",
       "      <td>physical</td>\n",
       "      <td>Huttlin EL (2021)</td>\n",
       "      <td>PUBMED:33961781</td>\n",
       "      <td>uniprot:Q3KNT7</td>\n",
       "      <td>uniprot:Q63ZY6</td>\n",
       "    </tr>\n",
       "    <tr>\n",
       "      <th>1063775</th>\n",
       "      <td>DHRS4L2</td>\n",
       "      <td>DHRS4L1</td>\n",
       "      <td>SDR25C3</td>\n",
       "      <td>SDR25C4</td>\n",
       "      <td>Affinity Capture-MS</td>\n",
       "      <td>physical</td>\n",
       "      <td>Huttlin EL (2021)</td>\n",
       "      <td>PUBMED:33961781</td>\n",
       "      <td>uniprot:Q6PKH6</td>\n",
       "      <td>uniprot:P0CG22</td>\n",
       "    </tr>\n",
       "    <tr>\n",
       "      <th>1063776</th>\n",
       "      <td>TRGV3</td>\n",
       "      <td>CNTNAP3B</td>\n",
       "      <td>TCRGV3|V1S3</td>\n",
       "      <td>-</td>\n",
       "      <td>Affinity Capture-MS</td>\n",
       "      <td>physical</td>\n",
       "      <td>Huttlin EL (2021)</td>\n",
       "      <td>PUBMED:33961781</td>\n",
       "      <td>uniprot:P03979</td>\n",
       "      <td>uniprot:Q96NU0</td>\n",
       "    </tr>\n",
       "    <tr>\n",
       "      <th>1063777</th>\n",
       "      <td>NSUN5P1</td>\n",
       "      <td>HELZ</td>\n",
       "      <td>NSUN5B|WBSCR20B</td>\n",
       "      <td>DHRC|DRHC|HUMORF5</td>\n",
       "      <td>Affinity Capture-MS</td>\n",
       "      <td>physical</td>\n",
       "      <td>Huttlin EL (2021)</td>\n",
       "      <td>PUBMED:33961781</td>\n",
       "      <td>uniprot:Q3KNT7</td>\n",
       "      <td>uniprot:P42694</td>\n",
       "    </tr>\n",
       "    <tr>\n",
       "      <th>1063778</th>\n",
       "      <td>FAM153B</td>\n",
       "      <td>A2ML1</td>\n",
       "      <td>-</td>\n",
       "      <td>CPAMD9</td>\n",
       "      <td>Affinity Capture-MS</td>\n",
       "      <td>physical</td>\n",
       "      <td>Huttlin EL (2021)</td>\n",
       "      <td>PUBMED:33961781</td>\n",
       "      <td>uniprot:P0C7A2</td>\n",
       "      <td>uniprot:A8K2U0</td>\n",
       "    </tr>\n",
       "  </tbody>\n",
       "</table>\n",
       "<p>1063779 rows × 10 columns</p>\n",
       "</div>"
      ],
      "text/plain": [
       "        Symbol A  Symbol B                                          Synonym A  \\\n",
       "0         MAP2K4      FLNC  JNKK|JNKK1|MAPKK4|MEK4|MKK4|PRKMK4|SAPKK-1|SAP...   \n",
       "1           MYPN     ACTN2                             CMD1DD|CMH22|MYOP|RCM4   \n",
       "2          ACVR1      FNTA            ACTRI|ACVR1A|ACVRLK2|ALK2|FOP|SKR1|TSRI   \n",
       "3          GATA2       PML                           DCML|IMD21|MONOMAC|NFE1B   \n",
       "4           RPA2     STAT3                      REPA2|RP-A p32|RP-A p34|RPA32   \n",
       "...          ...       ...                                                ...   \n",
       "1063774  NSUN5P1   NSUN5P2                                    NSUN5B|WBSCR20B   \n",
       "1063775  DHRS4L2   DHRS4L1                                            SDR25C3   \n",
       "1063776    TRGV3  CNTNAP3B                                        TCRGV3|V1S3   \n",
       "1063777  NSUN5P1      HELZ                                    NSUN5B|WBSCR20B   \n",
       "1063778  FAM153B     A2ML1                                                  -   \n",
       "\n",
       "                                        Synonym B               System  \\\n",
       "0        ABP-280|ABP280A|ABPA|ABPL|FLN2|MFM5|MPD4           Two-hybrid   \n",
       "1                                          CMD1AA           Two-hybrid   \n",
       "2                               FPTA|PGGT1A|PTAR2           Two-hybrid   \n",
       "3                         MYL|PP8675|RNF71|TRIM19           Two-hybrid   \n",
       "4                                 ADMIO|APRF|HIES           Two-hybrid   \n",
       "...                                           ...                  ...   \n",
       "1063774           NOL1R2|NSUN5C|WBSCR20B|WBSCR20C  Affinity Capture-MS   \n",
       "1063775                                   SDR25C4  Affinity Capture-MS   \n",
       "1063776                                         -  Affinity Capture-MS   \n",
       "1063777                         DHRC|DRHC|HUMORF5  Affinity Capture-MS   \n",
       "1063778                                    CPAMD9  Affinity Capture-MS   \n",
       "\n",
       "          SysType             Author      Publication       Uniprot A  \\\n",
       "0        physical     Marti A (1997)   PUBMED:9006895  uniprot:P45985   \n",
       "1        physical     Bang ML (2001)  PUBMED:11309420  uniprot:Q86TC9   \n",
       "2        physical      Wang T (1996)   PUBMED:8599089  uniprot:Q04771   \n",
       "3        physical   Tsuzuki S (2000)  PUBMED:10938104  uniprot:P23769   \n",
       "4        physical       Kim J (2000)  PUBMED:10875894  uniprot:P15927   \n",
       "...           ...                ...              ...             ...   \n",
       "1063774  physical  Huttlin EL (2021)  PUBMED:33961781  uniprot:Q3KNT7   \n",
       "1063775  physical  Huttlin EL (2021)  PUBMED:33961781  uniprot:Q6PKH6   \n",
       "1063776  physical  Huttlin EL (2021)  PUBMED:33961781  uniprot:P03979   \n",
       "1063777  physical  Huttlin EL (2021)  PUBMED:33961781  uniprot:Q3KNT7   \n",
       "1063778  physical  Huttlin EL (2021)  PUBMED:33961781  uniprot:P0C7A2   \n",
       "\n",
       "              Uniprot B  \n",
       "0        uniprot:Q14315  \n",
       "1        uniprot:P35609  \n",
       "2        uniprot:P49354  \n",
       "3        uniprot:P29590  \n",
       "4        uniprot:P40763  \n",
       "...                 ...  \n",
       "1063774  uniprot:Q63ZY6  \n",
       "1063775  uniprot:P0CG22  \n",
       "1063776  uniprot:Q96NU0  \n",
       "1063777  uniprot:P42694  \n",
       "1063778  uniprot:A8K2U0  \n",
       "\n",
       "[1063779 rows x 10 columns]"
      ]
     },
     "execution_count": 61,
     "metadata": {},
     "output_type": "execute_result"
    }
   ],
   "source": [
    "# Recover unmapped UniProt IDs. Separated by A and B\n",
    "noup_a = df[df[\"Uniprot A\"] == \"uniprot:-\"].copy().reset_index(drop=True)\n",
    "noup_a[\"Uniprot A\"] = noup_a.merge(up_map, left_on=[\"Symbol A\"], right_on=\"Symbol\", how=\"left\")[\"Uniprot\"]\n",
    "df = df[df[\"Uniprot A\"] != \"uniprot:-\"]\n",
    "df = pd.concat([df, noup_a])\n",
    "\n",
    "noup_b = df[df[\"Uniprot B\"] == \"uniprot:-\"].copy().reset_index(drop=True)\n",
    "noup_b[\"Uniprot B\"] = noup_b.merge(up_map, left_on=[\"Symbol B\"], right_on=\"Symbol\", how=\"left\")[\"Uniprot\"]\n",
    "df = df[df[\"Uniprot B\"] != \"uniprot:-\"]\n",
    "df = pd.concat([df, noup_b])\n",
    "\n",
    "df = df.dropna().reset_index(drop=True)\n",
    "df"
   ]
  },
  {
   "cell_type": "markdown",
   "id": "6557cc9e-4b36-4add-87d7-ef3dbd0b8845",
   "metadata": {},
   "source": [
    "### BIOGRID does not care about the order of A or B. So, switch things so A is always alphabetized earlier than B\n",
    "I checked this by pulling out Uniprot A and Uniprot B, then ordering all A to be earlier in alphabet than all B. Then, I dropped duplicates. If BIOGRID did this beforehand, then dropping duplicates of original BIOGRID and dropping duplicates of the ordered should result in the same number of rows. This was not true.\n",
    "\n",
    "Approach: Create a new dataframe of df where A and B are all swapped. Create a boolean vector where each entry describes if the row in A is sorted (Uniprot) earlier than B already. All 1-valued (np.where(vec == 1)) rows/indeices corresponding to A become B instead."
   ]
  },
  {
   "cell_type": "code",
   "execution_count": 5,
   "id": "5198ae0a-748f-4a10-9394-bc1e5dd74286",
   "metadata": {},
   "outputs": [],
   "source": [
    "flipped_df = df.copy()\n",
    "\n",
    "flipped_df[\"Symbol A\"] = df.copy()[\"Symbol B\"]\n",
    "flipped_df[\"Symbol B\"] = df.copy()[\"Symbol A\"]\n",
    "\n",
    "flipped_df[\"Synonym A\"] = df.copy()[\"Synonym B\"]\n",
    "flipped_df[\"Synonym B\"] = df.copy()[\"Synonym A\"]\n",
    "\n",
    "flipped_df[\"Uniprot A\"] = df.copy()[\"Uniprot B\"]\n",
    "flipped_df[\"Uniprot B\"] = df.copy()[\"Uniprot A\"]"
   ]
  },
  {
   "cell_type": "code",
   "execution_count": 6,
   "id": "ef966506-7303-49fc-b8a9-cb50cc142c8c",
   "metadata": {},
   "outputs": [],
   "source": [
    "# Get sorted version of Uniprot A and B\n",
    "id_dict = df[[\"Uniprot A\", \"Uniprot B\"]].T.to_dict(orient=\"list\")\n",
    "id_dict = {k: np.sort(v) for k, v in id_dict.items()}\n",
    "sorted_id_df = pd.DataFrame.from_dict(id_dict)\n",
    "sorted_id_df_t = sorted_id_df.T.rename(columns={0: \"Uniprot A\", 1: \"Uniprot B\"})\n",
    "\n",
    "# Which rows in original were not already sorted\n",
    "sorted_hstack = np.array(sorted_id_df_t[\"Uniprot A\"] + sorted_id_df_t[\"Uniprot B\"])\n",
    "unsorted_hstack = np.array(df[\"Uniprot A\"] + df[\"Uniprot B\"])\n",
    "\n",
    "unsorted_vec = sorted_hstack != unsorted_hstack\n",
    "\n",
    "# Replace all unsorted rows with the flipped one\n",
    "df.iloc[unsorted_vec] = flipped_df.iloc[unsorted_vec]\n",
    "\n",
    "df = df.drop_duplicates(subset=[\"Uniprot A\", \"Uniprot B\",\n",
    "                                \"Publication\", \"System\", \"Author\"]).reset_index(drop=True)"
   ]
  },
  {
   "cell_type": "markdown",
   "id": "20f0fd4a-d787-43cf-bea8-ea21659561b8",
   "metadata": {},
   "source": [
    "# Export evidence"
   ]
  },
  {
   "cell_type": "code",
   "execution_count": 22,
   "id": "393167c7-4f3f-43f6-b218-56094589c119",
   "metadata": {},
   "outputs": [
    {
     "name": "stdout",
     "output_type": "stream",
     "text": [
      "(791186, 3)\n"
     ]
    }
   ],
   "source": [
    "ev_df = df[[\"Uniprot A\", \"Uniprot B\"]].copy()\n",
    "ev_df.columns = [\"source\", \"target\"]\n",
    "\n",
    "ev_df[\"evidence\"] = df[\"Author\"] + \\\n",
    "    \"%%%\" + df[\"System\"] + \\\n",
    "    \"%%%\" + df[\"SysType\"].str.capitalize() + \\\n",
    "    \"%%%\" + df[\"Publication\"]\n",
    "\n",
    "ev_df = ev_df.groupby([\"source\", \"target\"]).agg({\"evidence\": lambda x: \"&&&\".join(x)})\n",
    "ev_df = ev_df.reset_index()\n",
    "\n",
    "print(ev_df.shape)\n",
    "\n",
    "with open(\"./PMC_OA_pickles/BIOGRID_evidence.pkl\", \"wb\") as p:\n",
    "    pickle.dump(ev_df, p)"
   ]
  },
  {
   "cell_type": "markdown",
   "id": "8e132551-513c-4fd5-8cfd-c3187b8e6aae",
   "metadata": {},
   "source": [
    "## Export edges"
   ]
  },
  {
   "cell_type": "code",
   "execution_count": 25,
   "id": "77ad6e64-6401-4a89-bbe4-72de18fc80a9",
   "metadata": {},
   "outputs": [
    {
     "name": "stdout",
     "output_type": "stream",
     "text": [
      "(791186, 3)\n"
     ]
    }
   ],
   "source": [
    "edges_df = df.groupby([\"Uniprot A\", \"Uniprot B\"]).size().reset_index()\n",
    "edges_df.columns = [\"source\", \"target\", \"thickness\"]\n",
    "\n",
    "G = nx.from_pandas_edgelist(\n",
    "    edges_df, edge_attr=True,\n",
    "    source=\"source\",\n",
    "    target=\"target\",\n",
    "    create_using=nx.Graph()\n",
    ")\n",
    "\n",
    "print(edges_df.shape)\n",
    "\n",
    "with open(\"./PMC_OA_pickles/BIOGRID_edges.pkl\", \"wb\") as p:\n",
    "    pickle.dump(edges_df, p)\n",
    "\n",
    "with open(\"./PMC_OA_pickles/BIOGRID_graph.pkl\", \"wb\") as p:\n",
    "    pickle.dump(G, p)"
   ]
  },
  {
   "cell_type": "markdown",
   "id": "a8ceb38c-3131-4071-a27e-31cc8e40b3ca",
   "metadata": {
    "tags": []
   },
   "source": [
    "## Synonyms for each listed entity"
   ]
  },
  {
   "cell_type": "code",
   "execution_count": 27,
   "id": "a277e1af-7a72-4f3b-8ed1-7bb3cfacbf9d",
   "metadata": {
    "tags": []
   },
   "outputs": [],
   "source": [
    "# The code is not pretty, but overall just get all the synonyms of all the mentioned entities\n",
    "syn_df = pd.concat([df[[\"Symbol A\", \"Synonym A\", \"Uniprot A\"]].rename(columns={\"Symbol A\": \"Symbol\",\n",
    "                                                                               \"Synonym A\": \"name\",\n",
    "                                                                               \"Uniprot A\": \"Id\"\n",
    "                                                                              }),\n",
    "                    df[[\"Symbol B\", \"Synonym B\", \"Uniprot B\"]].rename(columns={\"Symbol B\": \"Symbol\",\n",
    "                                                                               \"Synonym B\": \"name\",\n",
    "                                                                               \"Uniprot B\": \"Id\"\n",
    "                                                                              })],\n",
    "                   axis=0).drop_duplicates()\n",
    "\n",
    "syn_df[\"name\"] = syn_df.Symbol.str.cat(syn_df.name, sep=\"|\")\n",
    "syn_df = syn_df[syn_df[\"name\"] != \"-\"].copy()\n",
    "syn_df[\"name\"] = syn_df[\"name\"].str.split(\"|\")\n",
    "syn_df = syn_df.explode(\"name\").reset_index(drop=True)\n",
    "syn_df = syn_df[syn_df[\"name\"] != \"-\"]\n",
    "syn_df = syn_df.drop(columns=\"Symbol\").drop_duplicates().reset_index(drop=True)\n",
    "syn_df\n",
    "\n",
    "with open(\"./PMC_OA_pickles/BIOGRID_nodes.pkl\", \"wb\") as p:\n",
    "    pickle.dump(syn_df, p)"
   ]
  },
  {
   "cell_type": "code",
   "execution_count": null,
   "id": "ef1c6c82-59d1-4e52-a84b-8f39e8e32c76",
   "metadata": {},
   "outputs": [],
   "source": []
  }
 ],
 "metadata": {
  "kernelspec": {
   "display_name": "Python 3 (ipykernel)",
   "language": "python",
   "name": "python3"
  },
  "language_info": {
   "codemirror_mode": {
    "name": "ipython",
    "version": 3
   },
   "file_extension": ".py",
   "mimetype": "text/x-python",
   "name": "python",
   "nbconvert_exporter": "python",
   "pygments_lexer": "ipython3",
   "version": "3.9.13"
  }
 },
 "nbformat": 4,
 "nbformat_minor": 5
}
